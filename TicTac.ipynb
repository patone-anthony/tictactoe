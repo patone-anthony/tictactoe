{
 "cells": [
  {
   "cell_type": "code",
   "execution_count": 1,
   "metadata": {},
   "outputs": [
    {
     "name": "stdout",
     "output_type": "stream",
     "text": [
      "Welcome to my TicTacToe Game\n",
      "Player 1's turn, enter the number to mark your spot:\n",
      "\n",
      "7 | 8 | 9\n",
      "---------\n",
      "4 | 5 | 6\n",
      "---------\n",
      "1 | 2 | 3\n",
      "\n",
      "[1, 2, 3, 4, 5, 6, 7, 8, 9]\n"
     ]
    },
    {
     "name": "stdin",
     "output_type": "stream",
     "text": [
      " 7\n"
     ]
    },
    {
     "name": "stdout",
     "output_type": "stream",
     "text": [
      "\n",
      "Player 2's turn:\n",
      "\n",
      "X | 8 | 9\n",
      "---------\n",
      "4 | 5 | 6\n",
      "---------\n",
      "1 | 2 | 3\n",
      "\n",
      "[1, 2, 3, 4, 5, 6, 'X', 8, 9]\n"
     ]
    },
    {
     "name": "stdin",
     "output_type": "stream",
     "text": [
      " 4\n"
     ]
    },
    {
     "name": "stdout",
     "output_type": "stream",
     "text": [
      "\n",
      "Player 1's turn:\n",
      "\n",
      "X | 8 | 9\n",
      "---------\n",
      "O | 5 | 6\n",
      "---------\n",
      "1 | 2 | 3\n",
      "\n",
      "[1, 2, 3, 'O', 5, 6, 'X', 8, 9]\n"
     ]
    },
    {
     "name": "stdin",
     "output_type": "stream",
     "text": [
      " 8\n"
     ]
    },
    {
     "name": "stdout",
     "output_type": "stream",
     "text": [
      "\n",
      "Player 2's turn:\n",
      "\n",
      "X | X | 9\n",
      "---------\n",
      "O | 5 | 6\n",
      "---------\n",
      "1 | 2 | 3\n",
      "\n",
      "[1, 2, 3, 'O', 5, 6, 'X', 'X', 9]\n"
     ]
    },
    {
     "name": "stdin",
     "output_type": "stream",
     "text": [
      " 5\n"
     ]
    },
    {
     "name": "stdout",
     "output_type": "stream",
     "text": [
      "\n",
      "Player 1's turn:\n",
      "\n",
      "X | X | 9\n",
      "---------\n",
      "O | O | 6\n",
      "---------\n",
      "1 | 2 | 3\n",
      "\n",
      "[1, 2, 3, 'O', 'O', 6, 'X', 'X', 9]\n"
     ]
    },
    {
     "name": "stdin",
     "output_type": "stream",
     "text": [
      " 9\n"
     ]
    },
    {
     "name": "stdout",
     "output_type": "stream",
     "text": [
      "\n",
      "Player 2's turn:\n",
      "\n",
      "X | X | X\n",
      "---------\n",
      "O | O | 6\n",
      "---------\n",
      "1 | 2 | 3\n",
      "\n",
      "[1, 2, 3, 'O', 'O', 6, 'X', 'X', 'X']\n"
     ]
    },
    {
     "name": "stdin",
     "output_type": "stream",
     "text": [
      " 6\n"
     ]
    },
    {
     "name": "stdout",
     "output_type": "stream",
     "text": [
      "\n",
      "Player 1's turn:\n",
      "\n",
      "X | X | X\n",
      "---------\n",
      "O | O | O\n",
      "---------\n",
      "1 | 2 | 3\n",
      "\n",
      "[1, 2, 3, 'O', 'O', 'O', 'X', 'X', 'X']\n"
     ]
    },
    {
     "name": "stdin",
     "output_type": "stream",
     "text": [
      " 1\n"
     ]
    },
    {
     "name": "stdout",
     "output_type": "stream",
     "text": [
      "\n",
      "Player 2's turn:\n",
      "\n",
      "X | X | X\n",
      "---------\n",
      "O | O | O\n",
      "---------\n",
      "X | 2 | 3\n",
      "\n",
      "['X', 2, 3, 'O', 'O', 'O', 'X', 'X', 'X']\n"
     ]
    },
    {
     "name": "stdin",
     "output_type": "stream",
     "text": [
      " 2\n"
     ]
    },
    {
     "name": "stdout",
     "output_type": "stream",
     "text": [
      "\n",
      "Player 1's turn:\n",
      "\n",
      "X | X | X\n",
      "---------\n",
      "O | O | O\n",
      "---------\n",
      "X | O | 3\n",
      "\n",
      "['X', 'O', 3, 'O', 'O', 'O', 'X', 'X', 'X']\n"
     ]
    },
    {
     "name": "stdin",
     "output_type": "stream",
     "text": [
      " 3\n"
     ]
    },
    {
     "name": "stdout",
     "output_type": "stream",
     "text": [
      "It's a draw!\n",
      "Player 2 Wins!\n",
      "Player 1 Wins!\n",
      "It's a draw!\n",
      "It's a draw!\n",
      "It's a draw!\n",
      "It's a draw!\n",
      "It's a draw!\n",
      "Player 2 Wins!\n",
      "Player 1 Wins!\n",
      "It's a draw!\n",
      "It's a draw!\n",
      "It's a draw!\n",
      "It's a draw!\n",
      "It's a draw!\n",
      "Player 2 Wins!\n",
      "Player 1 Wins!\n",
      "It's a draw!\n",
      "It's a draw!\n",
      "It's a draw!\n",
      "It's a draw!\n",
      "It's a draw!\n",
      "Player 2 Wins!\n",
      "Player 1 Wins!\n",
      "It's a draw!\n",
      "It's a draw!\n",
      "It's a draw!\n",
      "It's a draw!\n",
      "It's a draw!\n",
      "Player 2 Wins!\n",
      "Player 1 Wins!\n",
      "It's a draw!\n",
      "It's a draw!\n",
      "It's a draw!\n",
      "It's a draw!\n",
      "It's a draw!\n",
      "Player 2 Wins!\n",
      "Player 1 Wins!\n",
      "It's a draw!\n",
      "It's a draw!\n",
      "It's a draw!\n",
      "It's a draw!\n",
      "It's a draw!\n",
      "Player 2 Wins!\n",
      "Player 1 Wins!\n",
      "It's a draw!\n",
      "It's a draw!\n",
      "It's a draw!\n",
      "It's a draw!\n",
      "It's a draw!\n",
      "Player 2 Wins!\n",
      "Player 1 Wins!\n",
      "It's a draw!\n",
      "It's a draw!\n",
      "It's a draw!\n",
      "It's a draw!\n",
      "It's a draw!\n",
      "Player 2 Wins!\n",
      "Player 1 Wins!\n",
      "It's a draw!\n",
      "It's a draw!\n",
      "It's a draw!\n",
      "It's a draw!\n",
      "It's a draw!\n"
     ]
    }
   ],
   "source": [
    "###### tictactoe\n",
    "\n",
    "locations = [i for i in range(1,10)]\n",
    "winconditions = ((0, 1, 2), (3, 4, 5), (6, 7, 8), (0, 4, 8), (2, 4, 6), (0, 3, 6), (1, 4, 7), (2, 5, 8))\n",
    "                 \n",
    "count = 0\n",
    "\n",
    "print('Welcome to my TicTacToe Game')\n",
    "    \n",
    "def gameplay():\n",
    "    global count\n",
    "    count += 1            \n",
    "    if count == 1:\n",
    "        print('Player 1\\'s turn, enter the number to mark your spot:')       \n",
    "        printboard()\n",
    "        p1()\n",
    "        checkwin()\n",
    "    elif count % 2 == 0:\n",
    "        print()\n",
    "        print('Player 2\\'s turn:')\n",
    "        printboard()\n",
    "        p2()\n",
    "        checkwin()       \n",
    "    elif count % 2 == 1:\n",
    "        print()\n",
    "        print('Player 1\\'s turn:')\n",
    "        printboard()\n",
    "        p1()\n",
    "        checkwin()\n",
    "\n",
    "def checkwin():\n",
    "    for a in winconditions:\n",
    "        if locations[a[0]] == locations[a[1]] == locations[a[2]] ==  'X':\n",
    "            print('Player 1 Wins!')\n",
    "            endgame()\n",
    "        elif locations[a[0]] == locations[a[1]] == locations[a[2]] == 'O':\n",
    "            print('Player 2 Wins!')\n",
    "            endgame()\n",
    "        elif count == 9:\n",
    "            print('It\\'s a draw!')\n",
    "            endgame()\n",
    "        else:\n",
    "            gameplay()\n",
    "\n",
    "def p1():\n",
    "    player1turn  = int(input())\n",
    "    locations[int(player1turn)-1] = \"X\"\n",
    "\n",
    "def p2():\n",
    "    player2turn  = int(input())\n",
    "    locations[int(player2turn)-1] = \"O\"\n",
    "\n",
    "def printboard():\n",
    "    print()\n",
    "    print(f'{locations[6]} | {locations[7]} | {locations[8]}')\n",
    "    print('---------')\n",
    "    print(f'{locations[3]} | {locations[4]} | {locations[5]}')\n",
    "    print('---------')\n",
    "    print(f'{locations[0]} | {locations[1]} | {locations[2]}')\n",
    "    print()\n",
    "    print(locations)\n",
    "    \n",
    "def endgame():\n",
    "    exit()\n",
    "    \n",
    "gameplay()"
   ]
  },
  {
   "cell_type": "code",
   "execution_count": null,
   "metadata": {},
   "outputs": [
    {
     "name": "stdout",
     "output_type": "stream",
     "text": [
      "\n",
      "0 1 2\n",
      "3 4 5\n",
      "6 7 8\n",
      "\n",
      "PLAYER X\n"
     ]
    },
    {
     "name": "stdin",
     "output_type": "stream",
     "text": [
      "Type where your X should be placed\n",
      " 0\n"
     ]
    },
    {
     "name": "stdout",
     "output_type": "stream",
     "text": [
      "\n",
      "X 1 2\n",
      "3 4 5\n",
      "6 7 8\n",
      "\n",
      "PLAYER 0\n"
     ]
    },
    {
     "name": "stdin",
     "output_type": "stream",
     "text": [
      "Type where your 0 should be placed\n",
      " 3\n"
     ]
    },
    {
     "name": "stdout",
     "output_type": "stream",
     "text": [
      "\n",
      "X 1 2\n",
      "O 4 5\n",
      "6 7 8\n",
      "\n",
      "PLAYER X\n"
     ]
    },
    {
     "name": "stdin",
     "output_type": "stream",
     "text": [
      "Type where your X should be placed\n",
      " 1\n"
     ]
    },
    {
     "name": "stdout",
     "output_type": "stream",
     "text": [
      "\n",
      "X X 2\n",
      "O 4 5\n",
      "6 7 8\n",
      "\n",
      "PLAYER 0\n"
     ]
    },
    {
     "name": "stdin",
     "output_type": "stream",
     "text": [
      "Type where your 0 should be placed\n",
      " 4\n"
     ]
    },
    {
     "name": "stdout",
     "output_type": "stream",
     "text": [
      "\n",
      "X X 2\n",
      "O O 5\n",
      "6 7 8\n",
      "\n",
      "PLAYER X\n"
     ]
    },
    {
     "name": "stdin",
     "output_type": "stream",
     "text": [
      "Type where your X should be placed\n",
      " 2\n"
     ]
    },
    {
     "name": "stdout",
     "output_type": "stream",
     "text": [
      "\n",
      "X X X\n",
      "O O 5\n",
      "6 7 8\n",
      "\n",
      "PLAYER X WINS\n"
     ]
    },
    {
     "name": "stdin",
     "output_type": "stream",
     "text": [
      "Do you want to play again? Type y or n\n",
      " n\n"
     ]
    },
    {
     "name": "stdout",
     "output_type": "stream",
     "text": [
      "See you next time!\n"
     ]
    },
    {
     "name": "stdin",
     "output_type": "stream",
     "text": [
      "Do you want to play again? Type y or n\n",
      " n\n"
     ]
    },
    {
     "name": "stdout",
     "output_type": "stream",
     "text": [
      "See you next time!\n"
     ]
    },
    {
     "name": "stdin",
     "output_type": "stream",
     "text": [
      "Do you want to play again? Type y or n\n",
      " n\n"
     ]
    },
    {
     "name": "stdout",
     "output_type": "stream",
     "text": [
      "See you next time!\n"
     ]
    },
    {
     "name": "stdin",
     "output_type": "stream",
     "text": [
      "Do you want to play again? Type y or n\n",
      " n\n"
     ]
    },
    {
     "name": "stdout",
     "output_type": "stream",
     "text": [
      "See you next time!\n"
     ]
    }
   ],
   "source": [
    "class Game:\n",
    "\n",
    "    def __init__(self):\n",
    "        self.board = [0, 1, 2, 3, 4, 5, 6, 7, 8]\n",
    "        self.win_conditions = ((0, 1, 2), (3, 4, 5), (6, 7, 8), (0, 4, 8), (2, 4, 6), (0, 3, 6), (1, 4, 7), (2, 5, 8))\n",
    "        self.moves_count = 0\n",
    "\n",
    "    def create_board(self):\n",
    "        print()\n",
    "        print(self.board[0], self.board[1], self.board[2])\n",
    "        print(self.board[3], self.board[4], self.board[5])\n",
    "        print(self.board[6], self.board[7], self.board[8])\n",
    "        print()\n",
    "\n",
    "    def p1(self):\n",
    "            try:\n",
    "                print(\"PLAYER X\")\n",
    "                question = int(input(\"Type where your X should be placed\\n\"))\n",
    "                if self.board[question] != \"X\" and self.board[question] != \"O\":\n",
    "                    self.board[question] = \"X\"\n",
    "                    self.create_board()\n",
    "                    self.moves_count += 1\n",
    "                else:\n",
    "                    print(\"someone already took that row\")\n",
    "                    self.p1()\n",
    "                self.check_win()\n",
    "            except ValueError:\n",
    "                print(\"Write a NUMBER from 0 to 8\")\n",
    "                self.p1()\n",
    "\n",
    "    def p2(self):\n",
    "        try:\n",
    "            print(\"PLAYER 0\")\n",
    "            question = int(input(\"Type where your 0 should be placed\\n\"))\n",
    "            if self.board[question] != \"X\" and self.board[question] != \"O\":\n",
    "                self.board[question] = \"O\"\n",
    "                self.create_board()\n",
    "                self.moves_count += 1\n",
    "            else:\n",
    "                print(\"someone already took that row\")\n",
    "                self.p2()\n",
    "            self.check_win()\n",
    "        except:\n",
    "            print(\"Write a NUMBER from 0 to 8\")\n",
    "            self.p2()\n",
    "\n",
    "    def check_win(self):\n",
    "        for a in self.win_conditions:\n",
    "            if self.board[a[0]] == self.board[a[1]] == self.board[a[2]] == \"X\":\n",
    "                print(\"PLAYER X WINS\")\n",
    "                self.play_again()\n",
    "            if self.board[a[0]] == self.board[a[1]] == self.board[a[2]] == \"O\":\n",
    "                print(\"PLAYER O WINS\")\n",
    "                self.play_again()\n",
    "            elif self.moves_count == 9:\n",
    "                print(\"A DRAW!\")\n",
    "                exit\n",
    "\n",
    "    def play(self):\n",
    "        while True:\n",
    "            self.p1()\n",
    "            self.p2()\n",
    "\n",
    "    def run(self):\n",
    "        self.create_board()\n",
    "        self.play()\n",
    "\n",
    "    def play_again(self):\n",
    "        while True:\n",
    "            question = input(\"Do you want to play again? Type y or n\\n\")\n",
    "            if question == \"y\":\n",
    "                print(\"GLHF\")\n",
    "                self.board = [0, 1, 2, 3, 4, 5, 6, 7, 8]\n",
    "                self.run()\n",
    "            elif question == \"n\":\n",
    "                print(\"See you next time!\")\n",
    "                quit\n",
    "            else:\n",
    "                print(\"Thats not a valid option\")\n",
    "\n",
    "cos = Game()\n",
    "cos.run()"
   ]
  },
  {
   "cell_type": "code",
   "execution_count": null,
   "metadata": {},
   "outputs": [],
   "source": []
  }
 ],
 "metadata": {
  "kernelspec": {
   "display_name": "Python 3",
   "language": "python",
   "name": "python3"
  },
  "language_info": {
   "codemirror_mode": {
    "name": "ipython",
    "version": 3
   },
   "file_extension": ".py",
   "mimetype": "text/x-python",
   "name": "python",
   "nbconvert_exporter": "python",
   "pygments_lexer": "ipython3",
   "version": "3.7.1"
  }
 },
 "nbformat": 4,
 "nbformat_minor": 2
}
